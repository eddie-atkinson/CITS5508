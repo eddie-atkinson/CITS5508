{
 "cells": [
  {
   "cell_type": "code",
   "execution_count": 27,
   "id": "looking-basketball",
   "metadata": {},
   "outputs": [],
   "source": [
    "import pandas as pd\n",
    "import numpy as np\n",
    "import tarfile\n",
    "import requests\n",
    "from pathlib import Path\n",
    "from sklearn.model_selection import train_test_split\n",
    "from sklearn.base import BaseEstimator, TransformerMixin\n",
    "from sklearn.pipeline import Pipeline\n",
    "from sklearn.impute import SimpleImputer\n",
    "from sklearn.preprocessing import StandardScaler\n",
    "from sklearn.neighbors import KNeighborsRegressor\n",
    "from sklearn.metrics import mean_squared_error\n",
    "import itertools\n",
    "from pprint import pprint"
   ]
  },
  {
   "cell_type": "markdown",
   "id": "terminal-mexican",
   "metadata": {},
   "source": [
    "# Todo\n",
    "- [x] create a ColumnSelector class\n",
    "- [x] use simple imputer to fill in na values\n",
    "- [x] Normalise all numeric columns\n",
    "- [ ] Build pipeline\n",
    "- [ ] Run KNN Regressor"
   ]
  },
  {
   "cell_type": "code",
   "execution_count": 3,
   "id": "precious-objective",
   "metadata": {},
   "outputs": [],
   "source": [
    "HOUSING_URL = \"https://raw.githubusercontent.com/ageron/handson-ml/master/datasets/housing/housing.tgz\"\n",
    "DATA_PATH = Path(\"./datasets/housing\")\n",
    "def fetch_housing_data(data_url=HOUSING_URL, file_path=DATA_PATH):\n",
    "    data = requests.get(data_url).content\n",
    "    file_path.mkdir(exist_ok=True, parents=True)\n",
    "    tgz_path = f\"{DATA_PATH}/housing.tgz\"\n",
    "    with open(tgz_path, \"wb\") as tgz_file:\n",
    "        tgz_file.write(data)    \n",
    "    housing_tgz = tarfile.open(tgz_path)\n",
    "    housing_tgz.extractall(path=file_path)\n",
    "    housing_tgz.close()\n",
    "\n",
    "fetch_housing_data()"
   ]
  },
  {
   "cell_type": "code",
   "execution_count": 4,
   "id": "ambient-sugar",
   "metadata": {},
   "outputs": [],
   "source": [
    "def load_housing_data(housing_path=DATA_PATH):\n",
    "    return pd.read_csv(f\"{housing_path}/housing.csv\")\n",
    "\n",
    "housing = load_housing_data()"
   ]
  },
  {
   "cell_type": "code",
   "execution_count": 5,
   "id": "turned-cleaners",
   "metadata": {},
   "outputs": [
    {
     "data": {
      "text/html": [
       "<div>\n",
       "<style scoped>\n",
       "    .dataframe tbody tr th:only-of-type {\n",
       "        vertical-align: middle;\n",
       "    }\n",
       "\n",
       "    .dataframe tbody tr th {\n",
       "        vertical-align: top;\n",
       "    }\n",
       "\n",
       "    .dataframe thead th {\n",
       "        text-align: right;\n",
       "    }\n",
       "</style>\n",
       "<table border=\"1\" class=\"dataframe\">\n",
       "  <thead>\n",
       "    <tr style=\"text-align: right;\">\n",
       "      <th></th>\n",
       "      <th>longitude</th>\n",
       "      <th>latitude</th>\n",
       "      <th>housing_median_age</th>\n",
       "      <th>total_rooms</th>\n",
       "      <th>total_bedrooms</th>\n",
       "      <th>population</th>\n",
       "      <th>households</th>\n",
       "      <th>median_income</th>\n",
       "      <th>median_house_value</th>\n",
       "      <th>ocean_proximity</th>\n",
       "    </tr>\n",
       "  </thead>\n",
       "  <tbody>\n",
       "    <tr>\n",
       "      <th>0</th>\n",
       "      <td>-122.23</td>\n",
       "      <td>37.88</td>\n",
       "      <td>41.0</td>\n",
       "      <td>880.0</td>\n",
       "      <td>129.0</td>\n",
       "      <td>322.0</td>\n",
       "      <td>126.0</td>\n",
       "      <td>8.3252</td>\n",
       "      <td>452600.0</td>\n",
       "      <td>NEAR BAY</td>\n",
       "    </tr>\n",
       "    <tr>\n",
       "      <th>1</th>\n",
       "      <td>-122.22</td>\n",
       "      <td>37.86</td>\n",
       "      <td>21.0</td>\n",
       "      <td>7099.0</td>\n",
       "      <td>1106.0</td>\n",
       "      <td>2401.0</td>\n",
       "      <td>1138.0</td>\n",
       "      <td>8.3014</td>\n",
       "      <td>358500.0</td>\n",
       "      <td>NEAR BAY</td>\n",
       "    </tr>\n",
       "    <tr>\n",
       "      <th>2</th>\n",
       "      <td>-122.24</td>\n",
       "      <td>37.85</td>\n",
       "      <td>52.0</td>\n",
       "      <td>1467.0</td>\n",
       "      <td>190.0</td>\n",
       "      <td>496.0</td>\n",
       "      <td>177.0</td>\n",
       "      <td>7.2574</td>\n",
       "      <td>352100.0</td>\n",
       "      <td>NEAR BAY</td>\n",
       "    </tr>\n",
       "    <tr>\n",
       "      <th>3</th>\n",
       "      <td>-122.25</td>\n",
       "      <td>37.85</td>\n",
       "      <td>52.0</td>\n",
       "      <td>1274.0</td>\n",
       "      <td>235.0</td>\n",
       "      <td>558.0</td>\n",
       "      <td>219.0</td>\n",
       "      <td>5.6431</td>\n",
       "      <td>341300.0</td>\n",
       "      <td>NEAR BAY</td>\n",
       "    </tr>\n",
       "    <tr>\n",
       "      <th>4</th>\n",
       "      <td>-122.25</td>\n",
       "      <td>37.85</td>\n",
       "      <td>52.0</td>\n",
       "      <td>1627.0</td>\n",
       "      <td>280.0</td>\n",
       "      <td>565.0</td>\n",
       "      <td>259.0</td>\n",
       "      <td>3.8462</td>\n",
       "      <td>342200.0</td>\n",
       "      <td>NEAR BAY</td>\n",
       "    </tr>\n",
       "  </tbody>\n",
       "</table>\n",
       "</div>"
      ],
      "text/plain": [
       "   longitude  latitude  housing_median_age  total_rooms  total_bedrooms  \\\n",
       "0    -122.23     37.88                41.0        880.0           129.0   \n",
       "1    -122.22     37.86                21.0       7099.0          1106.0   \n",
       "2    -122.24     37.85                52.0       1467.0           190.0   \n",
       "3    -122.25     37.85                52.0       1274.0           235.0   \n",
       "4    -122.25     37.85                52.0       1627.0           280.0   \n",
       "\n",
       "   population  households  median_income  median_house_value ocean_proximity  \n",
       "0       322.0       126.0         8.3252            452600.0        NEAR BAY  \n",
       "1      2401.0      1138.0         8.3014            358500.0        NEAR BAY  \n",
       "2       496.0       177.0         7.2574            352100.0        NEAR BAY  \n",
       "3       558.0       219.0         5.6431            341300.0        NEAR BAY  \n",
       "4       565.0       259.0         3.8462            342200.0        NEAR BAY  "
      ]
     },
     "execution_count": 5,
     "metadata": {},
     "output_type": "execute_result"
    }
   ],
   "source": [
    "housing.head()"
   ]
  },
  {
   "cell_type": "code",
   "execution_count": 6,
   "id": "included-semester",
   "metadata": {},
   "outputs": [],
   "source": [
    "X = housing.drop([\"median_house_value\"], axis=1)\n",
    "y = housing[\"median_house_value\"]\n",
    "x_train, x_test, y_train, y_test = train_test_split(X, y, test_size=0.2, random_state=42)\n"
   ]
  },
  {
   "cell_type": "code",
   "execution_count": 7,
   "id": "laden-violin",
   "metadata": {},
   "outputs": [
    {
     "name": "stdout",
     "output_type": "stream",
     "text": [
      "\n",
      "    X size: 185760\n",
      "    x train: 0.8 (148608)\n",
      "    x test: 0.2 (37152)\n",
      "\n"
     ]
    }
   ],
   "source": [
    "print(\n",
    "f\"\"\"\n",
    "    X size: {X.size}\n",
    "    x train: {x_train.size / X.size} ({x_train.size})\n",
    "    x test: {x_test.size / X.size} ({x_test.size})\n",
    "\"\"\"\n",
    ")"
   ]
  },
  {
   "cell_type": "code",
   "execution_count": 8,
   "id": "introductory-depth",
   "metadata": {},
   "outputs": [
    {
     "name": "stdout",
     "output_type": "stream",
     "text": [
      "<class 'pandas.core.frame.DataFrame'>\n",
      "Int64Index: 16512 entries, 14196 to 15795\n",
      "Data columns (total 9 columns):\n",
      " #   Column              Non-Null Count  Dtype  \n",
      "---  ------              --------------  -----  \n",
      " 0   longitude           16512 non-null  float64\n",
      " 1   latitude            16512 non-null  float64\n",
      " 2   housing_median_age  16512 non-null  float64\n",
      " 3   total_rooms         16512 non-null  float64\n",
      " 4   total_bedrooms      16512 non-null  float64\n",
      " 5   population          16512 non-null  float64\n",
      " 6   households          16512 non-null  float64\n",
      " 7   median_income       16512 non-null  float64\n",
      " 8   ocean_proximity     16512 non-null  object \n",
      "dtypes: float64(8), object(1)\n",
      "memory usage: 1.3+ MB\n"
     ]
    }
   ],
   "source": [
    "x_train.info(show_counts=True)"
   ]
  },
  {
   "cell_type": "code",
   "execution_count": 9,
   "id": "cooked-deviation",
   "metadata": {},
   "outputs": [],
   "source": [
    "numeric_cols = list(x_train.drop([\"ocean_proximity\"], axis=1).columns)"
   ]
  },
  {
   "cell_type": "code",
   "execution_count": 10,
   "id": "affecting-accident",
   "metadata": {},
   "outputs": [],
   "source": [
    "class ColumnSelector(BaseEstimator, TransformerMixin):\n",
    "    def __init__(self, desired_columns):\n",
    "        self.desired_columns = desired_columns\n",
    "    \n",
    "    def fit(self, X, y=None):\n",
    "        return self\n",
    "    \n",
    "    def transform(self, X):\n",
    "        return X[self.desired_columns].values\n"
   ]
  },
  {
   "cell_type": "code",
   "execution_count": 11,
   "id": "naughty-commons",
   "metadata": {},
   "outputs": [],
   "source": [
    "pipeline = Pipeline([\n",
    "    (\"column_selector\", ColumnSelector(numeric_cols)),\n",
    "    (\"imputer\", SimpleImputer(strategy=\"median\")),\n",
    "    (\"standard scalers\", StandardScaler())\n",
    "])\n",
    "x_train_prepared = pipeline.fit_transform(x_train)\n",
    "x_test_prepared = pipeline.fit_transform(x_test)"
   ]
  },
  {
   "cell_type": "code",
   "execution_count": 12,
   "id": "operational-tamil",
   "metadata": {},
   "outputs": [],
   "source": [
    "def test_knn(desired_columns, weights=\"uniform\", n_neighbors=3):\n",
    "    pipeline = Pipeline([\n",
    "        (\"column_selector\", ColumnSelector(numeric_cols)),\n",
    "        (\"imputer\", SimpleImputer(strategy=\"median\")),\n",
    "        (\"standard scalers\", StandardScaler())\n",
    "    ])\n",
    "    x_train_prepared = pipeline.fit_transform(x_train)\n",
    "    x_test_prepared = pipeline.fit_transform(x_test)\n",
    "    \n",
    "    knn_regressor = KNeighborsRegressor(n_neighbors=n_neighbors, weights=weights)\n",
    "    knn_regressor.fit(x_train_prepared, y_train)\n",
    "    housing_predictions = knn_regressor.predict(x_test_prepared)\n",
    "    mse = mean_squared_error(y_test, housing_predictions)\n",
    "    rmse = np.sqrt(mse)\n",
    "    return rmse\n",
    "    "
   ]
  },
  {
   "cell_type": "code",
   "execution_count": 13,
   "id": "elementary-florida",
   "metadata": {},
   "outputs": [
    {
     "data": {
      "text/plain": [
       "KNeighborsRegressor(n_neighbors=3)"
      ]
     },
     "execution_count": 13,
     "metadata": {},
     "output_type": "execute_result"
    }
   ],
   "source": [
    "knn_regressor = KNeighborsRegressor(n_neighbors=3)\n",
    "knn_regressor.fit(x_train_prepared, y_train)"
   ]
  },
  {
   "cell_type": "code",
   "execution_count": 19,
   "id": "detailed-fraction",
   "metadata": {},
   "outputs": [
    {
     "data": {
      "text/plain": [
       "64725.78694113039"
      ]
     },
     "execution_count": 19,
     "metadata": {},
     "output_type": "execute_result"
    }
   ],
   "source": [
    "housing_predictions = knn_regressor.predict(x_test_prepared)\n",
    "mse = mean_squared_error(y_test, housing_predictions)\n",
    "rmse = np.sqrt(mse)\n",
    "rmse"
   ]
  },
  {
   "cell_type": "code",
   "execution_count": 20,
   "id": "clear-reading",
   "metadata": {},
   "outputs": [
    {
     "name": "stdout",
     "output_type": "stream",
     "text": [
      "['longitude', 'latitude', 'housing_median_age', 'total_rooms', 'total_bedrooms', 'population', 'households', 'median_income']\n"
     ]
    }
   ],
   "source": [
    "print(numeric_cols)"
   ]
  },
  {
   "cell_type": "code",
   "execution_count": 21,
   "id": "behavioral-electron",
   "metadata": {
    "scrolled": true
   },
   "outputs": [],
   "source": [
    "combinations = [\n",
    "    numeric_cols,\n",
    "    [\"housing_median_age\", \"total_rooms\", \"total_bedrooms\", \"median_income\"],\n",
    "    [\"housing_median_age\", \"total_rooms\", \"population\"],\n",
    "]"
   ]
  },
  {
   "cell_type": "code",
   "execution_count": 26,
   "id": "extraordinary-factory",
   "metadata": {},
   "outputs": [],
   "source": [
    "results = []\n",
    "for combination in combinations:\n",
    "    for weighting_approach in [\"uniform\", \"distance\"]:\n",
    "        rmse = test_knn(combination, weights=weighting_approach)\n",
    "        results.append((combination, weighting_approach, rmse))"
   ]
  },
  {
   "cell_type": "code",
   "execution_count": 30,
   "id": "genuine-casting",
   "metadata": {},
   "outputs": [
    {
     "name": "stdout",
     "output_type": "stream",
     "text": [
      "[(['longitude',\n",
      "   'latitude',\n",
      "   'housing_median_age',\n",
      "   'total_rooms',\n",
      "   'total_bedrooms',\n",
      "   'population',\n",
      "   'households',\n",
      "   'median_income'],\n",
      "  'uniform',\n",
      "  64725.78694113039),\n",
      " (['longitude',\n",
      "   'latitude',\n",
      "   'housing_median_age',\n",
      "   'total_rooms',\n",
      "   'total_bedrooms',\n",
      "   'population',\n",
      "   'households',\n",
      "   'median_income'],\n",
      "  'distance',\n",
      "  64460.36447674085),\n",
      " (['housing_median_age', 'total_rooms', 'total_bedrooms', 'median_income'],\n",
      "  'uniform',\n",
      "  64725.78694113039),\n",
      " (['housing_median_age', 'total_rooms', 'total_bedrooms', 'median_income'],\n",
      "  'distance',\n",
      "  64460.36447674085),\n",
      " (['housing_median_age', 'total_rooms', 'population'],\n",
      "  'uniform',\n",
      "  64725.78694113039),\n",
      " (['housing_median_age', 'total_rooms', 'population'],\n",
      "  'distance',\n",
      "  64460.36447674085)]\n"
     ]
    }
   ],
   "source": [
    "pprint(results)"
   ]
  },
  {
   "cell_type": "code",
   "execution_count": null,
   "id": "weighted-breakdown",
   "metadata": {},
   "outputs": [],
   "source": []
  }
 ],
 "metadata": {
  "kernelspec": {
   "display_name": "Python 3",
   "language": "python",
   "name": "python3"
  },
  "language_info": {
   "codemirror_mode": {
    "name": "ipython",
    "version": 3
   },
   "file_extension": ".py",
   "mimetype": "text/x-python",
   "name": "python",
   "nbconvert_exporter": "python",
   "pygments_lexer": "ipython3",
   "version": "3.7.7"
  }
 },
 "nbformat": 4,
 "nbformat_minor": 5
}
